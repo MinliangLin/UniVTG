{
 "cells": [
  {
   "cell_type": "code",
   "execution_count": 2,
   "metadata": {},
   "outputs": [],
   "source": [
    "import pandas as pd"
   ]
  },
  {
   "cell_type": "code",
   "execution_count": 3,
   "metadata": {},
   "outputs": [],
   "source": [
    "data = pd.read_csv('data/inhouse_dataset.csv')"
   ]
  },
  {
   "cell_type": "code",
   "execution_count": 11,
   "metadata": {},
   "outputs": [
    {
     "name": "stdout",
     "output_type": "stream",
     "text": [
      "precision 0.4915254237288136\n",
      "recall 0.4084507042253521\n"
     ]
    }
   ],
   "source": [
    "lst = []\n",
    "for x in data.itertuples():\n",
    "    start = int(pd.Timedelta(x.start_position_scene).total_seconds() - 1)\n",
    "    end = int(pd.Timedelta(x.end_position_scene).total_seconds() - 1)\n",
    "    saliency = pd.read_csv(f'tmp/{x.content_id}_video/saliency.csv')['saliency']\n",
    "    lst.append(saliency[start:end].mean())\n",
    "data['univtg'] = lst\n",
    "data['ytrue'] = (data.rating > 3).astype(int)\n",
    "data['yhat'] = (data['univtg'] > 0.3).astype(int)\n",
    "s = data.groupby(['yhat', 'ytrue']).size().rename('num').reset_index()\n",
    "print('precision', s[(s.yhat == 1)&(s.ytrue==1)]['num'].sum()/s[(s.yhat == 1)]['num'].sum())\n",
    "print('recall', s[(s.yhat == 1)&(s.ytrue==1)]['num'].sum()/s[(s.ytrue == 1)]['num'].sum())"
   ]
  },
  {
   "cell_type": "code",
   "execution_count": 12,
   "metadata": {},
   "outputs": [
    {
     "name": "stdout",
     "output_type": "stream",
     "text": [
      "precision 0.5245901639344263\n",
      "recall 0.4507042253521127\n"
     ]
    }
   ],
   "source": [
    "lst = []\n",
    "for x in data.itertuples():\n",
    "    start = int(pd.Timedelta(x.start_position_scene).total_seconds() - 1)\n",
    "    end = int(pd.Timedelta(x.end_position_scene).total_seconds() - 1)\n",
    "    saliency = pd.read_csv(f'tmp/{x.content_id}_video/saliency_v2.csv')['saliency']\n",
    "    lst.append(saliency[start:end].mean())\n",
    "data['univtg'] = lst\n",
    "data['ytrue'] = (data.rating > 3).astype(int)\n",
    "data['yhat'] = (data['univtg'] > 0.3).astype(int)\n",
    "s = data.groupby(['yhat', 'ytrue']).size().rename('num').reset_index()\n",
    "print('precision', s[(s.yhat == 1)&(s.ytrue==1)]['num'].sum()/s[(s.yhat == 1)]['num'].sum())\n",
    "print('recall', s[(s.yhat == 1)&(s.ytrue==1)]['num'].sum()/s[(s.ytrue == 1)]['num'].sum())"
   ]
  },
  {
   "cell_type": "code",
   "execution_count": 23,
   "metadata": {},
   "outputs": [
    {
     "name": "stdout",
     "output_type": "stream",
     "text": [
      "ytrue   1   0\n",
      "yhat         \n",
      "1      61  43\n",
      "0      10  10\n",
      "precision 0.5865384615384616\n",
      "recall 0.8591549295774648\n"
     ]
    }
   ],
   "source": [
    "lst = []\n",
    "for x in data.itertuples():\n",
    "    start = int(pd.Timedelta(x.start_position_scene).total_seconds() - 1)\n",
    "    end = int(pd.Timedelta(x.end_position_scene).total_seconds() - 1)\n",
    "    saliency = pd.read_csv(f'tmp/{x.content_id}_video/saliency_v2.csv')['logit']\n",
    "    lst.append(saliency[start:end].mean())\n",
    "data['univtg'] = lst\n",
    "data['ytrue'] = (data.rating > 3).astype(int)\n",
    "data['yhat'] = (data['univtg'] > 0.3).astype(int)\n",
    "s = data.groupby(['yhat', 'ytrue']).size().rename('num').reset_index()\n",
    "print(s.pivot_table(index='yhat', columns='ytrue', values='num') \\\n",
    "      .sort_index(ascending=False, axis=0).sort_index(ascending=False, axis=1))\n",
    "print('precision', s[(s.yhat == 1)&(s.ytrue==1)]['num'].sum()/s[(s.yhat == 1)]['num'].sum())\n",
    "print('recall', s[(s.yhat == 1)&(s.ytrue==1)]['num'].sum()/s[(s.ytrue == 1)]['num'].sum())"
   ]
  },
  {
   "cell_type": "code",
   "execution_count": null,
   "metadata": {},
   "outputs": [],
   "source": []
  }
 ],
 "metadata": {
  "kernelspec": {
   "display_name": "venv",
   "language": "python",
   "name": "python3"
  },
  "language_info": {
   "codemirror_mode": {
    "name": "ipython",
    "version": 3
   },
   "file_extension": ".py",
   "mimetype": "text/x-python",
   "name": "python",
   "nbconvert_exporter": "python",
   "pygments_lexer": "ipython3",
   "version": "3.10.6"
  },
  "orig_nbformat": 4
 },
 "nbformat": 4,
 "nbformat_minor": 2
}
