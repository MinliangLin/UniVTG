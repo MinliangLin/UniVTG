{
 "cells": [
  {
   "cell_type": "markdown",
   "metadata": {},
   "source": [
    "## Manual data 358"
   ]
  },
  {
   "cell_type": "code",
   "execution_count": 1,
   "metadata": {},
   "outputs": [],
   "source": [
    "import pandas as pd\n",
    "data = pd.read_csv('data/label_ID6.csv')"
   ]
  },
  {
   "cell_type": "code",
   "execution_count": 2,
   "metadata": {},
   "outputs": [],
   "source": [
    "def coalesce_rating(df):\n",
    "    df['rating'] = None\n",
    "    for c in data.columns:\n",
    "        if c.startswith('rating'):\n",
    "            df['rating'] = df['rating'].fillna(df[c])\n",
    "    df['rating'] = df['rating'].map(lambda s: int(s[0]) if isinstance(s, str) else s)\n",
    "coalesce_rating(data)\n",
    "data = data[~data.rating.isna()].reset_index(drop=True)"
   ]
  },
  {
   "cell_type": "code",
   "execution_count": 3,
   "metadata": {},
   "outputs": [
    {
     "data": {
      "text/plain": [
       "(4.0    216\n",
       " 3.0    132\n",
       " 5.0    115\n",
       " 2.0    107\n",
       " 1.0     58\n",
       " Name: rating, dtype: int64,\n",
       " 628)"
      ]
     },
     "execution_count": 3,
     "metadata": {},
     "output_type": "execute_result"
    }
   ],
   "source": [
    "data.rating.value_counts(), len(data)"
   ]
  },
  {
   "cell_type": "code",
   "execution_count": 4,
   "metadata": {},
   "outputs": [
    {
     "data": {
      "text/html": [
       "<div>\n",
       "<style scoped>\n",
       "    .dataframe tbody tr th:only-of-type {\n",
       "        vertical-align: middle;\n",
       "    }\n",
       "\n",
       "    .dataframe tbody tr th {\n",
       "        vertical-align: top;\n",
       "    }\n",
       "\n",
       "    .dataframe thead th {\n",
       "        text-align: right;\n",
       "    }\n",
       "</style>\n",
       "<table border=\"1\" class=\"dataframe\">\n",
       "  <thead>\n",
       "    <tr style=\"text-align: right;\">\n",
       "      <th>ytrue</th>\n",
       "      <th>1</th>\n",
       "      <th>0</th>\n",
       "    </tr>\n",
       "    <tr>\n",
       "      <th>yhat</th>\n",
       "      <th></th>\n",
       "      <th></th>\n",
       "    </tr>\n",
       "  </thead>\n",
       "  <tbody>\n",
       "    <tr>\n",
       "      <th>1</th>\n",
       "      <td>249</td>\n",
       "      <td>209</td>\n",
       "    </tr>\n",
       "    <tr>\n",
       "      <th>0</th>\n",
       "      <td>82</td>\n",
       "      <td>88</td>\n",
       "    </tr>\n",
       "  </tbody>\n",
       "</table>\n",
       "</div>"
      ],
      "text/plain": [
       "ytrue    1    0\n",
       "yhat           \n",
       "1      249  209\n",
       "0       82   88"
      ]
     },
     "metadata": {},
     "output_type": "display_data"
    },
    {
     "name": "stdout",
     "output_type": "stream",
     "text": [
      "precision 0.5436681222707423\n",
      "recall 0.7522658610271903\n"
     ]
    }
   ],
   "source": [
    "lst = []\n",
    "for x in data.itertuples():\n",
    "    start = int(pd.Timedelta(x.start_position_scene).total_seconds() - 1)\n",
    "    end = int(pd.Timedelta(x.end_position_scene).total_seconds() - 1)\n",
    "    logit = pd.read_csv(f'tmp/{x.content_id}_video/saliency_v3.csv')['logit']\n",
    "    saliency = pd.read_csv(f'tmp/{x.content_id}_video/saliency_v3.csv')['saliency']\n",
    "    lst.append((logit[start:end]+saliency[start:end]).mean()/2)\n",
    "data['univtg'] = lst\n",
    "data['ytrue'] = (data.rating > 3).astype(int)\n",
    "data['yhat'] = (data['univtg'] > 0.3).astype(int)\n",
    "s = data.groupby(['yhat', 'ytrue']).size().rename('num').reset_index()\n",
    "display(s.pivot_table(index='yhat', columns='ytrue', values='num') \\\n",
    "      .sort_index(ascending=False, axis=0).sort_index(ascending=False, axis=1))\n",
    "print('precision', s[(s.yhat == 1)&(s.ytrue==1)]['num'].sum()/s[(s.yhat == 1)]['num'].sum())\n",
    "print('recall', s[(s.yhat == 1)&(s.ytrue==1)]['num'].sum()/s[(s.ytrue == 1)]['num'].sum())"
   ]
  },
  {
   "cell_type": "code",
   "execution_count": 5,
   "metadata": {},
   "outputs": [
    {
     "name": "stdout",
     "output_type": "stream",
     "text": [
      "AP 0.5980571383145931\n",
      "AUC 0.5696644186070168\n"
     ]
    }
   ],
   "source": [
    "from sklearn.metrics import average_precision_score, roc_auc_score\n",
    "print('AP', average_precision_score(data['ytrue'], data['univtg']))\n",
    "print('AUC', roc_auc_score(data['ytrue'], data['univtg']))"
   ]
  },
  {
   "cell_type": "markdown",
   "metadata": {},
   "source": [
    "## Like 2022"
   ]
  },
  {
   "cell_type": "code",
   "execution_count": 3,
   "metadata": {},
   "outputs": [],
   "source": [
    "import pandas as pd\n",
    "df = pd.read_csv('data/data2022/like2.csv')"
   ]
  },
  {
   "cell_type": "code",
   "execution_count": 4,
   "metadata": {},
   "outputs": [],
   "source": [
    "from pathlib import Path\n",
    "lst = []\n",
    "for x in df.itertuples():\n",
    "    content_id = Path(x.path).stem\n",
    "    saliency = pd.read_csv(f'tmp/data2022/{content_id}/saliency_v2.csv')['logit']\n",
    "    lst.append(saliency.mean())\n",
    "df['univtg'] = lst"
   ]
  },
  {
   "cell_type": "code",
   "execution_count": 6,
   "metadata": {},
   "outputs": [],
   "source": [
    "df['ytrue'] = (df['like'] > 7).map(int)"
   ]
  },
  {
   "cell_type": "code",
   "execution_count": 8,
   "metadata": {},
   "outputs": [
    {
     "name": "stdout",
     "output_type": "stream",
     "text": [
      "AP 0.4632070051961239\n",
      "AUC 0.5268992631718794\n"
     ]
    }
   ],
   "source": [
    "from sklearn.metrics import average_precision_score, roc_auc_score\n",
    "print('AP', average_precision_score(df['ytrue'], df['univtg']))\n",
    "print('AUC', roc_auc_score(df['ytrue'], df['univtg']))"
   ]
  },
  {
   "cell_type": "code",
   "execution_count": 12,
   "metadata": {},
   "outputs": [
    {
     "data": {
      "text/plain": [
       "<AxesSubplot: >"
      ]
     },
     "execution_count": 12,
     "metadata": {},
     "output_type": "execute_result"
    },
    {
     "data": {
      "image/png": "[encoded data removed]",
      "text/plain": [
       "<Figure size 432x288 with 1 Axes>"
      ]
     },
     "metadata": {
      "needs_background": "light"
     },
     "output_type": "display_data"
    }
   ],
   "source": [
    "data[data['content_id'] == 1000053838][['start_position_scene', 'univtg']].plot.bar()"
   ]
  },
  {
   "cell_type": "code",
   "execution_count": null,
   "metadata": {},
   "outputs": [],
   "source": []
  }
 ],
 "metadata": {
  "kernelspec": {
   "display_name": "venv",
   "language": "python",
   "name": "python3"
  },
  "language_info": {
   "codemirror_mode": {
    "name": "ipython",
    "version": 3
   },
   "file_extension": ".py",
   "mimetype": "text/x-python",
   "name": "python",
   "nbconvert_exporter": "python",
   "pygments_lexer": "ipython3",
   "version": "3.10.6"
  },
  "orig_nbformat": 4
 },
 "nbformat": 4,
 "nbformat_minor": 2
}
