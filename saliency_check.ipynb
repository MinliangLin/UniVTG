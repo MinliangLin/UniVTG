{
 "cells": [
  {
   "cell_type": "code",
   "execution_count": 1,
   "metadata": {},
   "outputs": [],
   "source": [
    "import pandas as pd"
   ]
  },
  {
   "cell_type": "code",
   "execution_count": 32,
   "metadata": {},
   "outputs": [],
   "source": [
    "data = pd.read_csv('data/label_ID6.csv')"
   ]
  },
  {
   "cell_type": "code",
   "execution_count": 33,
   "metadata": {},
   "outputs": [],
   "source": [
    "def coalesce_rating(df):\n",
    "    df['rating'] = None\n",
    "    for c in data.columns:\n",
    "        if c.startswith('rating'):\n",
    "            df['rating'] = df['rating'].fillna(df[c])\n",
    "    df['rating'] = df['rating'].map(lambda s: int(s[0]) if isinstance(s, str) else s)\n",
    "coalesce_rating(data)\n",
    "data = data[~data.rating.isna()].reset_index(drop=True)"
   ]
  },
  {
   "cell_type": "code",
   "execution_count": 34,
   "metadata": {},
   "outputs": [
    {
     "data": {
      "text/plain": [
       "(4.0    148\n",
       " 5.0     71\n",
       " 3.0     67\n",
       " 2.0     50\n",
       " 1.0     22\n",
       " Name: rating, dtype: int64,\n",
       " 358)"
      ]
     },
     "execution_count": 34,
     "metadata": {},
     "output_type": "execute_result"
    }
   ],
   "source": [
    "data.rating.value_counts(), len(data)"
   ]
  },
  {
   "cell_type": "code",
   "execution_count": 36,
   "metadata": {},
   "outputs": [
    {
     "data": {
      "text/html": [
       "<div>\n",
       "<style scoped>\n",
       "    .dataframe tbody tr th:only-of-type {\n",
       "        vertical-align: middle;\n",
       "    }\n",
       "\n",
       "    .dataframe tbody tr th {\n",
       "        vertical-align: top;\n",
       "    }\n",
       "\n",
       "    .dataframe thead th {\n",
       "        text-align: right;\n",
       "    }\n",
       "</style>\n",
       "<table border=\"1\" class=\"dataframe\">\n",
       "  <thead>\n",
       "    <tr style=\"text-align: right;\">\n",
       "      <th>ytrue</th>\n",
       "      <th>1</th>\n",
       "      <th>0</th>\n",
       "    </tr>\n",
       "    <tr>\n",
       "      <th>yhat</th>\n",
       "      <th></th>\n",
       "      <th></th>\n",
       "    </tr>\n",
       "  </thead>\n",
       "  <tbody>\n",
       "    <tr>\n",
       "      <th>1</th>\n",
       "      <td>158</td>\n",
       "      <td>105</td>\n",
       "    </tr>\n",
       "    <tr>\n",
       "      <th>0</th>\n",
       "      <td>61</td>\n",
       "      <td>34</td>\n",
       "    </tr>\n",
       "  </tbody>\n",
       "</table>\n",
       "</div>"
      ],
      "text/plain": [
       "ytrue    1    0\n",
       "yhat           \n",
       "1      158  105\n",
       "0       61   34"
      ]
     },
     "metadata": {},
     "output_type": "display_data"
    },
    {
     "name": "stdout",
     "output_type": "stream",
     "text": [
      "precision 0.6007604562737643\n",
      "recall 0.7214611872146118\n"
     ]
    }
   ],
   "source": [
    "lst = []\n",
    "for x in data.itertuples():\n",
    "    start = int(pd.Timedelta(x.start_position_scene).total_seconds() - 1)\n",
    "    end = int(pd.Timedelta(x.end_position_scene).total_seconds() - 1)\n",
    "    saliency = pd.read_csv(f'tmp/{x.content_id}_video/saliency_v2.csv')['logit']\n",
    "    lst.append(saliency[start:end].mean())\n",
    "data['univtg'] = lst\n",
    "data['ytrue'] = (data.rating > 3).astype(int)\n",
    "data['yhat'] = (data['univtg'] > 0.3).astype(int)\n",
    "s = data.groupby(['yhat', 'ytrue']).size().rename('num').reset_index()\n",
    "display(s.pivot_table(index='yhat', columns='ytrue', values='num') \\\n",
    "      .sort_index(ascending=False, axis=0).sort_index(ascending=False, axis=1))\n",
    "print('precision', s[(s.yhat == 1)&(s.ytrue==1)]['num'].sum()/s[(s.yhat == 1)]['num'].sum())\n",
    "print('recall', s[(s.yhat == 1)&(s.ytrue==1)]['num'].sum()/s[(s.ytrue == 1)]['num'].sum())"
   ]
  },
  {
   "cell_type": "code",
   "execution_count": 37,
   "metadata": {},
   "outputs": [
    {
     "data": {
      "text/html": [
       "<div>\n",
       "<style scoped>\n",
       "    .dataframe tbody tr th:only-of-type {\n",
       "        vertical-align: middle;\n",
       "    }\n",
       "\n",
       "    .dataframe tbody tr th {\n",
       "        vertical-align: top;\n",
       "    }\n",
       "\n",
       "    .dataframe thead th {\n",
       "        text-align: right;\n",
       "    }\n",
       "</style>\n",
       "<table border=\"1\" class=\"dataframe\">\n",
       "  <thead>\n",
       "    <tr style=\"text-align: right;\">\n",
       "      <th>ytrue</th>\n",
       "      <th>1</th>\n",
       "      <th>0</th>\n",
       "    </tr>\n",
       "    <tr>\n",
       "      <th>yhat</th>\n",
       "      <th></th>\n",
       "      <th></th>\n",
       "    </tr>\n",
       "  </thead>\n",
       "  <tbody>\n",
       "    <tr>\n",
       "      <th>1</th>\n",
       "      <td>124</td>\n",
       "      <td>70</td>\n",
       "    </tr>\n",
       "    <tr>\n",
       "      <th>0</th>\n",
       "      <td>95</td>\n",
       "      <td>69</td>\n",
       "    </tr>\n",
       "  </tbody>\n",
       "</table>\n",
       "</div>"
      ],
      "text/plain": [
       "ytrue    1   0\n",
       "yhat          \n",
       "1      124  70\n",
       "0       95  69"
      ]
     },
     "metadata": {},
     "output_type": "display_data"
    },
    {
     "name": "stdout",
     "output_type": "stream",
     "text": [
      "precision 0.6391752577319587\n",
      "recall 0.5662100456621004\n"
     ]
    }
   ],
   "source": [
    "lst = []\n",
    "for x in data.itertuples():\n",
    "    start = int(pd.Timedelta(x.start_position_scene).total_seconds() - 1)\n",
    "    end = int(pd.Timedelta(x.end_position_scene).total_seconds() - 1)\n",
    "    saliency = pd.read_csv(f'tmp/{x.content_id}_video/saliency_v2.csv')['logit']\n",
    "    lst.append(saliency[start:end].mean())\n",
    "data['univtg'] = lst\n",
    "data['ytrue'] = (data.rating > 3).astype(int)\n",
    "data['yhat'] = (data['univtg'] > 0.5).astype(int)\n",
    "s = data.groupby(['yhat', 'ytrue']).size().rename('num').reset_index()\n",
    "display(s.pivot_table(index='yhat', columns='ytrue', values='num') \\\n",
    "      .sort_index(ascending=False, axis=0).sort_index(ascending=False, axis=1))\n",
    "print('precision', s[(s.yhat == 1)&(s.ytrue==1)]['num'].sum()/s[(s.yhat == 1)]['num'].sum())\n",
    "print('recall', s[(s.yhat == 1)&(s.ytrue==1)]['num'].sum()/s[(s.ytrue == 1)]['num'].sum())"
   ]
  },
  {
   "cell_type": "code",
   "execution_count": null,
   "metadata": {},
   "outputs": [],
   "source": []
  }
 ],
 "metadata": {
  "kernelspec": {
   "display_name": "venv",
   "language": "python",
   "name": "python3"
  },
  "language_info": {
   "codemirror_mode": {
    "name": "ipython",
    "version": 3
   },
   "file_extension": ".py",
   "mimetype": "text/x-python",
   "name": "python",
   "nbconvert_exporter": "python",
   "pygments_lexer": "ipython3",
   "version": "3.10.6"
  },
  "orig_nbformat": 4
 },
 "nbformat": 4,
 "nbformat_minor": 2
}
